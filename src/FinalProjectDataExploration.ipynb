{
 "cells": [
  {
   "cell_type": "code",
   "execution_count": 1,
   "id": "8b03dabf",
   "metadata": {},
   "outputs": [],
   "source": [
    "import plotly.express as px\n",
    "import pandas as pd\n",
    "import numpy as np\n"
   ]
  },
  {
   "cell_type": "markdown",
   "id": "69f47cfc",
   "metadata": {},
   "source": [
    "Aggregate Data Sets"
   ]
  },
  {
   "cell_type": "code",
   "execution_count": 2,
   "id": "281f30ff",
   "metadata": {},
   "outputs": [
    {
     "name": "stdout",
     "output_type": "stream",
     "text": [
      "read 0 into memory\n",
      "read 1 into memory\n",
      "read 2 into memory\n",
      "read 3 into memory\n",
      "read 4 into memory\n",
      "read 5 into memory\n"
     ]
    },
    {
     "ename": "KeyboardInterrupt",
     "evalue": "",
     "output_type": "error",
     "traceback": [
      "\u001b[1;31m---------------------------------------------------------------------------\u001b[0m",
      "\u001b[1;31mKeyboardInterrupt\u001b[0m                         Traceback (most recent call last)",
      "\u001b[1;32mc:\\Projects\\MlFinalProj\\MlFinalProject\\src\\FinalProjectDataExploration.ipynb Cell 3\u001b[0m in \u001b[0;36m<cell line: 2>\u001b[1;34m()\u001b[0m\n\u001b[0;32m      <a href='vscode-notebook-cell:/c%3A/Projects/MlFinalProj/MlFinalProject/src/FinalProjectDataExploration.ipynb#ch0000002?line=0'>1</a>\u001b[0m dataTemp \u001b[39m=\u001b[39m []\n\u001b[0;32m      <a href='vscode-notebook-cell:/c%3A/Projects/MlFinalProj/MlFinalProject/src/FinalProjectDataExploration.ipynb#ch0000002?line=1'>2</a>\u001b[0m \u001b[39mfor\u001b[39;00m i \u001b[39min\u001b[39;00m \u001b[39mrange\u001b[39m(\u001b[39m32\u001b[39m):\n\u001b[1;32m----> <a href='vscode-notebook-cell:/c%3A/Projects/MlFinalProj/MlFinalProject/src/FinalProjectDataExploration.ipynb#ch0000002?line=2'>3</a>\u001b[0m     dataTemp\u001b[39m.\u001b[39mappend(pd\u001b[39m.\u001b[39;49mread_csv(\u001b[39mf\u001b[39;49m\u001b[39m\"\u001b[39;49m\u001b[39m..\u001b[39;49m\u001b[39m\\\\\u001b[39;49;00m\u001b[39mDataSet\u001b[39;49m\u001b[39m\\\\\u001b[39;49;00m\u001b[39mCSV\u001b[39;49m\u001b[39m\\\\\u001b[39;49;00m\u001b[39m1.Deauth\u001b[39;49m\u001b[39m\\\\\u001b[39;49;00m\u001b[39mDeauth_\u001b[39;49m\u001b[39m{\u001b[39;49;00mi\u001b[39m}\u001b[39;49;00m\u001b[39m.csv\u001b[39;49m\u001b[39m\"\u001b[39;49m, low_memory\u001b[39m=\u001b[39;49m\u001b[39mFalse\u001b[39;49;00m))\n\u001b[0;32m      <a href='vscode-notebook-cell:/c%3A/Projects/MlFinalProj/MlFinalProject/src/FinalProjectDataExploration.ipynb#ch0000002?line=3'>4</a>\u001b[0m     \u001b[39mprint\u001b[39m(\u001b[39mf\u001b[39m\u001b[39m\"\u001b[39m\u001b[39mread \u001b[39m\u001b[39m{\u001b[39;00mi\u001b[39m}\u001b[39;00m\u001b[39m into memory\u001b[39m\u001b[39m\"\u001b[39m)\n\u001b[0;32m      <a href='vscode-notebook-cell:/c%3A/Projects/MlFinalProj/MlFinalProject/src/FinalProjectDataExploration.ipynb#ch0000002?line=5'>6</a>\u001b[0m df \u001b[39m=\u001b[39m pd\u001b[39m.\u001b[39mconcat(dataTemp)\n",
      "File \u001b[1;32mc:\\Projects\\MlFinalProj\\MlFinalProject\\finalproj\\lib\\site-packages\\pandas\\util\\_decorators.py:311\u001b[0m, in \u001b[0;36mdeprecate_nonkeyword_arguments.<locals>.decorate.<locals>.wrapper\u001b[1;34m(*args, **kwargs)\u001b[0m\n\u001b[0;32m    305\u001b[0m \u001b[39mif\u001b[39;00m \u001b[39mlen\u001b[39m(args) \u001b[39m>\u001b[39m num_allow_args:\n\u001b[0;32m    306\u001b[0m     warnings\u001b[39m.\u001b[39mwarn(\n\u001b[0;32m    307\u001b[0m         msg\u001b[39m.\u001b[39mformat(arguments\u001b[39m=\u001b[39marguments),\n\u001b[0;32m    308\u001b[0m         \u001b[39mFutureWarning\u001b[39;00m,\n\u001b[0;32m    309\u001b[0m         stacklevel\u001b[39m=\u001b[39mstacklevel,\n\u001b[0;32m    310\u001b[0m     )\n\u001b[1;32m--> 311\u001b[0m \u001b[39mreturn\u001b[39;00m func(\u001b[39m*\u001b[39margs, \u001b[39m*\u001b[39m\u001b[39m*\u001b[39mkwargs)\n",
      "File \u001b[1;32mc:\\Projects\\MlFinalProj\\MlFinalProject\\finalproj\\lib\\site-packages\\pandas\\io\\parsers\\readers.py:680\u001b[0m, in \u001b[0;36mread_csv\u001b[1;34m(filepath_or_buffer, sep, delimiter, header, names, index_col, usecols, squeeze, prefix, mangle_dupe_cols, dtype, engine, converters, true_values, false_values, skipinitialspace, skiprows, skipfooter, nrows, na_values, keep_default_na, na_filter, verbose, skip_blank_lines, parse_dates, infer_datetime_format, keep_date_col, date_parser, dayfirst, cache_dates, iterator, chunksize, compression, thousands, decimal, lineterminator, quotechar, quoting, doublequote, escapechar, comment, encoding, encoding_errors, dialect, error_bad_lines, warn_bad_lines, on_bad_lines, delim_whitespace, low_memory, memory_map, float_precision, storage_options)\u001b[0m\n\u001b[0;32m    665\u001b[0m kwds_defaults \u001b[39m=\u001b[39m _refine_defaults_read(\n\u001b[0;32m    666\u001b[0m     dialect,\n\u001b[0;32m    667\u001b[0m     delimiter,\n\u001b[1;32m   (...)\u001b[0m\n\u001b[0;32m    676\u001b[0m     defaults\u001b[39m=\u001b[39m{\u001b[39m\"\u001b[39m\u001b[39mdelimiter\u001b[39m\u001b[39m\"\u001b[39m: \u001b[39m\"\u001b[39m\u001b[39m,\u001b[39m\u001b[39m\"\u001b[39m},\n\u001b[0;32m    677\u001b[0m )\n\u001b[0;32m    678\u001b[0m kwds\u001b[39m.\u001b[39mupdate(kwds_defaults)\n\u001b[1;32m--> 680\u001b[0m \u001b[39mreturn\u001b[39;00m _read(filepath_or_buffer, kwds)\n",
      "File \u001b[1;32mc:\\Projects\\MlFinalProj\\MlFinalProject\\finalproj\\lib\\site-packages\\pandas\\io\\parsers\\readers.py:581\u001b[0m, in \u001b[0;36m_read\u001b[1;34m(filepath_or_buffer, kwds)\u001b[0m\n\u001b[0;32m    578\u001b[0m     \u001b[39mreturn\u001b[39;00m parser\n\u001b[0;32m    580\u001b[0m \u001b[39mwith\u001b[39;00m parser:\n\u001b[1;32m--> 581\u001b[0m     \u001b[39mreturn\u001b[39;00m parser\u001b[39m.\u001b[39;49mread(nrows)\n",
      "File \u001b[1;32mc:\\Projects\\MlFinalProj\\MlFinalProject\\finalproj\\lib\\site-packages\\pandas\\io\\parsers\\readers.py:1255\u001b[0m, in \u001b[0;36mTextFileReader.read\u001b[1;34m(self, nrows)\u001b[0m\n\u001b[0;32m   1253\u001b[0m nrows \u001b[39m=\u001b[39m validate_integer(\u001b[39m\"\u001b[39m\u001b[39mnrows\u001b[39m\u001b[39m\"\u001b[39m, nrows)\n\u001b[0;32m   1254\u001b[0m \u001b[39mtry\u001b[39;00m:\n\u001b[1;32m-> 1255\u001b[0m     index, columns, col_dict \u001b[39m=\u001b[39m \u001b[39mself\u001b[39;49m\u001b[39m.\u001b[39;49m_engine\u001b[39m.\u001b[39;49mread(nrows)\n\u001b[0;32m   1256\u001b[0m \u001b[39mexcept\u001b[39;00m \u001b[39mException\u001b[39;00m:\n\u001b[0;32m   1257\u001b[0m     \u001b[39mself\u001b[39m\u001b[39m.\u001b[39mclose()\n",
      "File \u001b[1;32mc:\\Projects\\MlFinalProj\\MlFinalProject\\finalproj\\lib\\site-packages\\pandas\\io\\parsers\\c_parser_wrapper.py:230\u001b[0m, in \u001b[0;36mCParserWrapper.read\u001b[1;34m(self, nrows)\u001b[0m\n\u001b[0;32m    227\u001b[0m         data \u001b[39m=\u001b[39m _concatenate_chunks(chunks)\n\u001b[0;32m    229\u001b[0m     \u001b[39melse\u001b[39;00m:\n\u001b[1;32m--> 230\u001b[0m         data \u001b[39m=\u001b[39m \u001b[39mself\u001b[39;49m\u001b[39m.\u001b[39;49m_reader\u001b[39m.\u001b[39;49mread(nrows)\n\u001b[0;32m    231\u001b[0m \u001b[39mexcept\u001b[39;00m \u001b[39mStopIteration\u001b[39;00m:\n\u001b[0;32m    232\u001b[0m     \u001b[39mif\u001b[39;00m \u001b[39mself\u001b[39m\u001b[39m.\u001b[39m_first_chunk:\n",
      "File \u001b[1;32mc:\\Projects\\MlFinalProj\\MlFinalProject\\finalproj\\lib\\site-packages\\pandas\\_libs\\parsers.pyx:787\u001b[0m, in \u001b[0;36mpandas._libs.parsers.TextReader.read\u001b[1;34m()\u001b[0m\n",
      "File \u001b[1;32mc:\\Projects\\MlFinalProj\\MlFinalProject\\finalproj\\lib\\site-packages\\pandas\\_libs\\parsers.pyx:883\u001b[0m, in \u001b[0;36mpandas._libs.parsers.TextReader._read_rows\u001b[1;34m()\u001b[0m\n",
      "File \u001b[1;32mc:\\Projects\\MlFinalProj\\MlFinalProject\\finalproj\\lib\\site-packages\\pandas\\_libs\\parsers.pyx:1038\u001b[0m, in \u001b[0;36mpandas._libs.parsers.TextReader._convert_column_data\u001b[1;34m()\u001b[0m\n",
      "File \u001b[1;32mc:\\Projects\\MlFinalProj\\MlFinalProject\\finalproj\\lib\\site-packages\\pandas\\core\\dtypes\\common.py:1474\u001b[0m, in \u001b[0;36mis_extension_array_dtype\u001b[1;34m(arr_or_dtype)\u001b[0m\n\u001b[0;32m   1429\u001b[0m \u001b[39mdef\u001b[39;00m \u001b[39mis_extension_array_dtype\u001b[39m(arr_or_dtype) \u001b[39m-\u001b[39m\u001b[39m>\u001b[39m \u001b[39mbool\u001b[39m:\n\u001b[0;32m   1430\u001b[0m     \u001b[39m\"\"\"\u001b[39;00m\n\u001b[0;32m   1431\u001b[0m \u001b[39m    Check if an object is a pandas extension array type.\u001b[39;00m\n\u001b[0;32m   1432\u001b[0m \n\u001b[1;32m   (...)\u001b[0m\n\u001b[0;32m   1472\u001b[0m \u001b[39m    False\u001b[39;00m\n\u001b[0;32m   1473\u001b[0m \u001b[39m    \"\"\"\u001b[39;00m\n\u001b[1;32m-> 1474\u001b[0m     dtype \u001b[39m=\u001b[39m \u001b[39mgetattr\u001b[39;49m(arr_or_dtype, \u001b[39m\"\u001b[39;49m\u001b[39mdtype\u001b[39;49m\u001b[39m\"\u001b[39;49m, arr_or_dtype)\n\u001b[0;32m   1475\u001b[0m     \u001b[39mif\u001b[39;00m \u001b[39misinstance\u001b[39m(dtype, ExtensionDtype):\n\u001b[0;32m   1476\u001b[0m         \u001b[39mreturn\u001b[39;00m \u001b[39mTrue\u001b[39;00m\n",
      "\u001b[1;31mKeyboardInterrupt\u001b[0m: "
     ]
    }
   ],
   "source": [
    "dataTemp = []\n",
    "for i in range(32):\n",
    "    dataTemp.append(pd.read_csv(f\"..\\\\DataSet\\\\CSV\\\\1.Deauth\\\\Deauth_{i}.csv\", low_memory=False))\n",
    "    print(f\"read {i} into memory\")\n",
    "\n",
    "df = pd.concat(dataTemp)\n",
    "print(df.shape)"
   ]
  },
  {
   "cell_type": "markdown",
   "id": "db04c7f9",
   "metadata": {},
   "source": [
    "Label analysis"
   ]
  },
  {
   "cell_type": "code",
   "execution_count": null,
   "id": "b532e8c9",
   "metadata": {},
   "outputs": [
    {
     "name": "stdout",
     "output_type": "stream",
     "text": [
      "['Normal' 'Deauth']\n",
      "Normal    1562066\n",
      "Deauth      37931\n",
      "Name: Label, dtype: int64\n"
     ]
    },
    {
     "data": {
      "application/vnd.plotly.v1+json": {
       "config": {
        "plotlyServerURL": "https://plot.ly"
       },
       "data": [
        {
         "alignmentgroup": "True",
         "hovertemplate": "variable=Label<br>index=%{x}<br>value=%{y}<extra></extra>",
         "legendgroup": "Label",
         "marker": {
          "color": "#636efa",
          "pattern": {
           "shape": ""
          }
         },
         "name": "Label",
         "offsetgroup": "Label",
         "orientation": "v",
         "showlegend": true,
         "textposition": "auto",
         "type": "bar",
         "x": [
          "Normal",
          "Deauth"
         ],
         "xaxis": "x",
         "y": [
          1562066,
          37931
         ],
         "yaxis": "y"
        }
       ],
       "layout": {
        "barmode": "relative",
        "legend": {
         "title": {
          "text": "variable"
         },
         "tracegroupgap": 0
        },
        "margin": {
         "t": 60
        },
        "template": {
         "data": {
          "bar": [
           {
            "error_x": {
             "color": "#2a3f5f"
            },
            "error_y": {
             "color": "#2a3f5f"
            },
            "marker": {
             "line": {
              "color": "#E5ECF6",
              "width": 0.5
             },
             "pattern": {
              "fillmode": "overlay",
              "size": 10,
              "solidity": 0.2
             }
            },
            "type": "bar"
           }
          ],
          "barpolar": [
           {
            "marker": {
             "line": {
              "color": "#E5ECF6",
              "width": 0.5
             },
             "pattern": {
              "fillmode": "overlay",
              "size": 10,
              "solidity": 0.2
             }
            },
            "type": "barpolar"
           }
          ],
          "carpet": [
           {
            "aaxis": {
             "endlinecolor": "#2a3f5f",
             "gridcolor": "white",
             "linecolor": "white",
             "minorgridcolor": "white",
             "startlinecolor": "#2a3f5f"
            },
            "baxis": {
             "endlinecolor": "#2a3f5f",
             "gridcolor": "white",
             "linecolor": "white",
             "minorgridcolor": "white",
             "startlinecolor": "#2a3f5f"
            },
            "type": "carpet"
           }
          ],
          "choropleth": [
           {
            "colorbar": {
             "outlinewidth": 0,
             "ticks": ""
            },
            "type": "choropleth"
           }
          ],
          "contour": [
           {
            "colorbar": {
             "outlinewidth": 0,
             "ticks": ""
            },
            "colorscale": [
             [
              0,
              "#0d0887"
             ],
             [
              0.1111111111111111,
              "#46039f"
             ],
             [
              0.2222222222222222,
              "#7201a8"
             ],
             [
              0.3333333333333333,
              "#9c179e"
             ],
             [
              0.4444444444444444,
              "#bd3786"
             ],
             [
              0.5555555555555556,
              "#d8576b"
             ],
             [
              0.6666666666666666,
              "#ed7953"
             ],
             [
              0.7777777777777778,
              "#fb9f3a"
             ],
             [
              0.8888888888888888,
              "#fdca26"
             ],
             [
              1,
              "#f0f921"
             ]
            ],
            "type": "contour"
           }
          ],
          "contourcarpet": [
           {
            "colorbar": {
             "outlinewidth": 0,
             "ticks": ""
            },
            "type": "contourcarpet"
           }
          ],
          "heatmap": [
           {
            "colorbar": {
             "outlinewidth": 0,
             "ticks": ""
            },
            "colorscale": [
             [
              0,
              "#0d0887"
             ],
             [
              0.1111111111111111,
              "#46039f"
             ],
             [
              0.2222222222222222,
              "#7201a8"
             ],
             [
              0.3333333333333333,
              "#9c179e"
             ],
             [
              0.4444444444444444,
              "#bd3786"
             ],
             [
              0.5555555555555556,
              "#d8576b"
             ],
             [
              0.6666666666666666,
              "#ed7953"
             ],
             [
              0.7777777777777778,
              "#fb9f3a"
             ],
             [
              0.8888888888888888,
              "#fdca26"
             ],
             [
              1,
              "#f0f921"
             ]
            ],
            "type": "heatmap"
           }
          ],
          "heatmapgl": [
           {
            "colorbar": {
             "outlinewidth": 0,
             "ticks": ""
            },
            "colorscale": [
             [
              0,
              "#0d0887"
             ],
             [
              0.1111111111111111,
              "#46039f"
             ],
             [
              0.2222222222222222,
              "#7201a8"
             ],
             [
              0.3333333333333333,
              "#9c179e"
             ],
             [
              0.4444444444444444,
              "#bd3786"
             ],
             [
              0.5555555555555556,
              "#d8576b"
             ],
             [
              0.6666666666666666,
              "#ed7953"
             ],
             [
              0.7777777777777778,
              "#fb9f3a"
             ],
             [
              0.8888888888888888,
              "#fdca26"
             ],
             [
              1,
              "#f0f921"
             ]
            ],
            "type": "heatmapgl"
           }
          ],
          "histogram": [
           {
            "marker": {
             "pattern": {
              "fillmode": "overlay",
              "size": 10,
              "solidity": 0.2
             }
            },
            "type": "histogram"
           }
          ],
          "histogram2d": [
           {
            "colorbar": {
             "outlinewidth": 0,
             "ticks": ""
            },
            "colorscale": [
             [
              0,
              "#0d0887"
             ],
             [
              0.1111111111111111,
              "#46039f"
             ],
             [
              0.2222222222222222,
              "#7201a8"
             ],
             [
              0.3333333333333333,
              "#9c179e"
             ],
             [
              0.4444444444444444,
              "#bd3786"
             ],
             [
              0.5555555555555556,
              "#d8576b"
             ],
             [
              0.6666666666666666,
              "#ed7953"
             ],
             [
              0.7777777777777778,
              "#fb9f3a"
             ],
             [
              0.8888888888888888,
              "#fdca26"
             ],
             [
              1,
              "#f0f921"
             ]
            ],
            "type": "histogram2d"
           }
          ],
          "histogram2dcontour": [
           {
            "colorbar": {
             "outlinewidth": 0,
             "ticks": ""
            },
            "colorscale": [
             [
              0,
              "#0d0887"
             ],
             [
              0.1111111111111111,
              "#46039f"
             ],
             [
              0.2222222222222222,
              "#7201a8"
             ],
             [
              0.3333333333333333,
              "#9c179e"
             ],
             [
              0.4444444444444444,
              "#bd3786"
             ],
             [
              0.5555555555555556,
              "#d8576b"
             ],
             [
              0.6666666666666666,
              "#ed7953"
             ],
             [
              0.7777777777777778,
              "#fb9f3a"
             ],
             [
              0.8888888888888888,
              "#fdca26"
             ],
             [
              1,
              "#f0f921"
             ]
            ],
            "type": "histogram2dcontour"
           }
          ],
          "mesh3d": [
           {
            "colorbar": {
             "outlinewidth": 0,
             "ticks": ""
            },
            "type": "mesh3d"
           }
          ],
          "parcoords": [
           {
            "line": {
             "colorbar": {
              "outlinewidth": 0,
              "ticks": ""
             }
            },
            "type": "parcoords"
           }
          ],
          "pie": [
           {
            "automargin": true,
            "type": "pie"
           }
          ],
          "scatter": [
           {
            "fillpattern": {
             "fillmode": "overlay",
             "size": 10,
             "solidity": 0.2
            },
            "type": "scatter"
           }
          ],
          "scatter3d": [
           {
            "line": {
             "colorbar": {
              "outlinewidth": 0,
              "ticks": ""
             }
            },
            "marker": {
             "colorbar": {
              "outlinewidth": 0,
              "ticks": ""
             }
            },
            "type": "scatter3d"
           }
          ],
          "scattercarpet": [
           {
            "marker": {
             "colorbar": {
              "outlinewidth": 0,
              "ticks": ""
             }
            },
            "type": "scattercarpet"
           }
          ],
          "scattergeo": [
           {
            "marker": {
             "colorbar": {
              "outlinewidth": 0,
              "ticks": ""
             }
            },
            "type": "scattergeo"
           }
          ],
          "scattergl": [
           {
            "marker": {
             "colorbar": {
              "outlinewidth": 0,
              "ticks": ""
             }
            },
            "type": "scattergl"
           }
          ],
          "scattermapbox": [
           {
            "marker": {
             "colorbar": {
              "outlinewidth": 0,
              "ticks": ""
             }
            },
            "type": "scattermapbox"
           }
          ],
          "scatterpolar": [
           {
            "marker": {
             "colorbar": {
              "outlinewidth": 0,
              "ticks": ""
             }
            },
            "type": "scatterpolar"
           }
          ],
          "scatterpolargl": [
           {
            "marker": {
             "colorbar": {
              "outlinewidth": 0,
              "ticks": ""
             }
            },
            "type": "scatterpolargl"
           }
          ],
          "scatterternary": [
           {
            "marker": {
             "colorbar": {
              "outlinewidth": 0,
              "ticks": ""
             }
            },
            "type": "scatterternary"
           }
          ],
          "surface": [
           {
            "colorbar": {
             "outlinewidth": 0,
             "ticks": ""
            },
            "colorscale": [
             [
              0,
              "#0d0887"
             ],
             [
              0.1111111111111111,
              "#46039f"
             ],
             [
              0.2222222222222222,
              "#7201a8"
             ],
             [
              0.3333333333333333,
              "#9c179e"
             ],
             [
              0.4444444444444444,
              "#bd3786"
             ],
             [
              0.5555555555555556,
              "#d8576b"
             ],
             [
              0.6666666666666666,
              "#ed7953"
             ],
             [
              0.7777777777777778,
              "#fb9f3a"
             ],
             [
              0.8888888888888888,
              "#fdca26"
             ],
             [
              1,
              "#f0f921"
             ]
            ],
            "type": "surface"
           }
          ],
          "table": [
           {
            "cells": {
             "fill": {
              "color": "#EBF0F8"
             },
             "line": {
              "color": "white"
             }
            },
            "header": {
             "fill": {
              "color": "#C8D4E3"
             },
             "line": {
              "color": "white"
             }
            },
            "type": "table"
           }
          ]
         },
         "layout": {
          "annotationdefaults": {
           "arrowcolor": "#2a3f5f",
           "arrowhead": 0,
           "arrowwidth": 1
          },
          "autotypenumbers": "strict",
          "coloraxis": {
           "colorbar": {
            "outlinewidth": 0,
            "ticks": ""
           }
          },
          "colorscale": {
           "diverging": [
            [
             0,
             "#8e0152"
            ],
            [
             0.1,
             "#c51b7d"
            ],
            [
             0.2,
             "#de77ae"
            ],
            [
             0.3,
             "#f1b6da"
            ],
            [
             0.4,
             "#fde0ef"
            ],
            [
             0.5,
             "#f7f7f7"
            ],
            [
             0.6,
             "#e6f5d0"
            ],
            [
             0.7,
             "#b8e186"
            ],
            [
             0.8,
             "#7fbc41"
            ],
            [
             0.9,
             "#4d9221"
            ],
            [
             1,
             "#276419"
            ]
           ],
           "sequential": [
            [
             0,
             "#0d0887"
            ],
            [
             0.1111111111111111,
             "#46039f"
            ],
            [
             0.2222222222222222,
             "#7201a8"
            ],
            [
             0.3333333333333333,
             "#9c179e"
            ],
            [
             0.4444444444444444,
             "#bd3786"
            ],
            [
             0.5555555555555556,
             "#d8576b"
            ],
            [
             0.6666666666666666,
             "#ed7953"
            ],
            [
             0.7777777777777778,
             "#fb9f3a"
            ],
            [
             0.8888888888888888,
             "#fdca26"
            ],
            [
             1,
             "#f0f921"
            ]
           ],
           "sequentialminus": [
            [
             0,
             "#0d0887"
            ],
            [
             0.1111111111111111,
             "#46039f"
            ],
            [
             0.2222222222222222,
             "#7201a8"
            ],
            [
             0.3333333333333333,
             "#9c179e"
            ],
            [
             0.4444444444444444,
             "#bd3786"
            ],
            [
             0.5555555555555556,
             "#d8576b"
            ],
            [
             0.6666666666666666,
             "#ed7953"
            ],
            [
             0.7777777777777778,
             "#fb9f3a"
            ],
            [
             0.8888888888888888,
             "#fdca26"
            ],
            [
             1,
             "#f0f921"
            ]
           ]
          },
          "colorway": [
           "#636efa",
           "#EF553B",
           "#00cc96",
           "#ab63fa",
           "#FFA15A",
           "#19d3f3",
           "#FF6692",
           "#B6E880",
           "#FF97FF",
           "#FECB52"
          ],
          "font": {
           "color": "#2a3f5f"
          },
          "geo": {
           "bgcolor": "white",
           "lakecolor": "white",
           "landcolor": "#E5ECF6",
           "showlakes": true,
           "showland": true,
           "subunitcolor": "white"
          },
          "hoverlabel": {
           "align": "left"
          },
          "hovermode": "closest",
          "mapbox": {
           "style": "light"
          },
          "paper_bgcolor": "white",
          "plot_bgcolor": "#E5ECF6",
          "polar": {
           "angularaxis": {
            "gridcolor": "white",
            "linecolor": "white",
            "ticks": ""
           },
           "bgcolor": "#E5ECF6",
           "radialaxis": {
            "gridcolor": "white",
            "linecolor": "white",
            "ticks": ""
           }
          },
          "scene": {
           "xaxis": {
            "backgroundcolor": "#E5ECF6",
            "gridcolor": "white",
            "gridwidth": 2,
            "linecolor": "white",
            "showbackground": true,
            "ticks": "",
            "zerolinecolor": "white"
           },
           "yaxis": {
            "backgroundcolor": "#E5ECF6",
            "gridcolor": "white",
            "gridwidth": 2,
            "linecolor": "white",
            "showbackground": true,
            "ticks": "",
            "zerolinecolor": "white"
           },
           "zaxis": {
            "backgroundcolor": "#E5ECF6",
            "gridcolor": "white",
            "gridwidth": 2,
            "linecolor": "white",
            "showbackground": true,
            "ticks": "",
            "zerolinecolor": "white"
           }
          },
          "shapedefaults": {
           "line": {
            "color": "#2a3f5f"
           }
          },
          "ternary": {
           "aaxis": {
            "gridcolor": "white",
            "linecolor": "white",
            "ticks": ""
           },
           "baxis": {
            "gridcolor": "white",
            "linecolor": "white",
            "ticks": ""
           },
           "bgcolor": "#E5ECF6",
           "caxis": {
            "gridcolor": "white",
            "linecolor": "white",
            "ticks": ""
           }
          },
          "title": {
           "x": 0.05
          },
          "xaxis": {
           "automargin": true,
           "gridcolor": "white",
           "linecolor": "white",
           "ticks": "",
           "title": {
            "standoff": 15
           },
           "zerolinecolor": "white",
           "zerolinewidth": 2
          },
          "yaxis": {
           "automargin": true,
           "gridcolor": "white",
           "linecolor": "white",
           "ticks": "",
           "title": {
            "standoff": 15
           },
           "zerolinecolor": "white",
           "zerolinewidth": 2
          }
         }
        },
        "xaxis": {
         "anchor": "y",
         "domain": [
          0,
          1
         ],
         "title": {
          "text": "index"
         }
        },
        "yaxis": {
         "anchor": "x",
         "domain": [
          0,
          1
         ],
         "title": {
          "text": "value"
         }
        }
       }
      }
     },
     "metadata": {},
     "output_type": "display_data"
    }
   ],
   "source": [
    "print(df[\"Label\"].unique())\n",
    "print(df[\"Label\"].value_counts())\n",
    "fig = px.bar(df[\"Label\"].value_counts())\n",
    "fig.show()\n",
    "\n"
   ]
  },
  {
   "cell_type": "code",
   "execution_count": null,
   "id": "87592e02",
   "metadata": {},
   "outputs": [
    {
     "name": "stdout",
     "output_type": "stream",
     "text": [
      "frame.encap_type\n",
      "frame.len\n",
      "frame.number\n",
      "frame.time\n",
      "frame.time_delta\n",
      "frame.time_delta_displayed\n",
      "frame.time_epoch\n",
      "frame.time_relative\n",
      "radiotap.channel.flags.cck\n",
      "radiotap.channel.flags.ofdm\n",
      "radiotap.channel.freq\n",
      "radiotap.datarate\n",
      "radiotap.dbm_antsignal\n",
      "radiotap.length\n",
      "radiotap.mactime\n",
      "radiotap.present.tsft\n",
      "radiotap.rxflags\n",
      "radiotap.timestamp.ts\n",
      "wlan.duration\n",
      "wlan.analysis.kck\n",
      "wlan.analysis.kek\n",
      "wlan.bssid\n",
      "wlan.country_info.fnm\n",
      "wlan.country_info.code\n",
      "wlan.da\n",
      "wlan.fc.ds\n",
      "wlan.fc.frag\n",
      "wlan.fc.order\n",
      "wlan.fc.moredata\n",
      "wlan.fc.protected\n",
      "wlan.fc.pwrmgt\n",
      "wlan.fc.type\n",
      "wlan.fc.retry\n",
      "wlan.fc.subtype\n",
      "wlan.fixed.beacon\n",
      "wlan.fixed.capabilities.ess\n",
      "wlan.fixed.capabilities.ibss\n",
      "wlan.fixed.reason_code\n",
      "wlan.fixed.timestamp\n",
      "wlan.ra\n",
      "wlan_radio.duration\n",
      "wlan.rsn.ie.gtk.key\n",
      "wlan.rsn.ie.igtk.key\n",
      "wlan.rsn.ie.pmkid\n",
      "wlan.sa\n",
      "wlan.seq\n",
      "wlan.ssid\n",
      "wlan.ta\n",
      "wlan.tag\n",
      "wlan.tag.length\n",
      "wlan_radio.channel\n",
      "wlan_radio.data_rate\n",
      "wlan_radio.end_tsf\n",
      "wlan_radio.frequency\n",
      "wlan_radio.signal_dbm\n",
      "wlan_radio.start_tsf\n",
      "wlan_radio.phy\n",
      "wlan_radio.timestamp\n",
      "wlan.rsn.capabilities.mfpc\n",
      "wlan_rsna_eapol.keydes.msgnr\n",
      "wlan_rsna_eapol.keydes.data\n",
      "wlan_rsna_eapol.keydes.data_len\n",
      "wlan_rsna_eapol.keydes.key_info.key_mic\n",
      "wlan_rsna_eapol.keydes.nonce\n",
      "eapol.keydes.key_len\n",
      "eapol.keydes.replay_counter\n",
      "eapol.len\n",
      "eapol.type\n",
      "llc\n",
      "arp\n",
      "arp.hw.type\n",
      "arp.proto.type\n",
      "arp.hw.size\n",
      "arp.proto.size\n",
      "arp.opcode\n",
      "arp.src.hw_mac\n",
      "arp.src.proto_ipv4\n",
      "arp.dst.hw_mac\n",
      "arp.dst.proto_ipv4\n",
      "ip.dst\n",
      "ip.proto\n",
      "ip.src\n",
      "ip.ttl\n",
      "ip.version\n",
      "data.data\n",
      "data.len\n",
      "icmpv6.mldr.nb_mcast_records\n",
      "tcp.ack\n",
      "tcp.ack_raw\n",
      "tcp.analysis\n",
      "tcp.analysis.flags\n",
      "tcp.analysis.retransmission\n",
      "tcp.analysis.reused_ports\n",
      "tcp.analysis.rto_frame\n",
      "tcp.checksum\n",
      "tcp.checksum.status\n",
      "tcp.flags.syn\n",
      "tcp.dstport\n",
      "tcp.flags.ack\n",
      "tcp.flags.fin\n",
      "tcp.flags.push\n",
      "tcp.flags.reset\n",
      "tcp.option_len\n",
      "tcp.payload\n",
      "tcp.seq\n",
      "tcp.seq_raw\n",
      "tcp.srcport\n",
      "tcp.time_delta\n",
      "tcp.time_relative\n",
      "udp.dstport\n",
      "udp.srcport\n",
      "udp.length\n",
      "udp.payload\n",
      "udp.time_relative\n",
      "udp.time_delta\n",
      "nbns\n",
      "nbss.continuation_data\n",
      "nbss.type\n",
      "nbss.length\n",
      "ldap\n",
      "smb.access.generic_execute\n",
      "smb.access.generic_read\n",
      "smb.access.generic_write\n",
      "smb.flags.notify\n",
      "smb.flags.response\n",
      "smb.flags2.nt_error\n",
      "smb.flags2.sec_sig\n",
      "smb.mid\n",
      "smb.nt_status\n",
      "smb.server_component\n",
      "smb.pid.high\n",
      "smb.tid\n",
      "smb2.auth_frame\n",
      "smb2.buffer_code\n",
      "smb2.cmd\n",
      "smb2.data_offset\n",
      "smb2.fid\n",
      "smb2.filename\n",
      "smb2.header_len\n",
      "smb2.msg_id\n",
      "smb2.pid\n",
      "smb2.previous_sesid\n",
      "smb2.protocol_id\n",
      "smb2.sesid\n",
      "smb2.session_flags\n",
      "smb2.tid\n",
      "dhcp\n",
      "dhcp.cookie\n",
      "dhcp.hw.addr_padding\n",
      "dhcp.hw.mac_addr\n",
      "dhcp.id\n",
      "dhcp.ip.client\n",
      "dhcp.ip.relay\n",
      "dhcp.ip.server\n",
      "dhcp.option.broadcast_address\n",
      "dhcp.option.dhcp_server_id\n",
      "dhcp.option.router\n",
      "mdns\n",
      "dns\n",
      "dns.a\n",
      "dns.count.add_rr\n",
      "dns.count.answers\n",
      "dns.count.auth_rr\n",
      "dns.count.labels\n",
      "dns.count.queries\n",
      "dns.flags.authoritative\n",
      "dns.flags.checkdisable\n",
      "dns.flags.opcode\n",
      "dns.flags.response\n",
      "dns.id\n",
      "dns.qry.name\n",
      "dns.qry.name.len\n",
      "dns.resp.name\n",
      "dns.resp.ttl\n",
      "dns.resp.len.1\n",
      "dns.retransmit_request\n",
      "dns.retransmit_response\n",
      "dns.time\n",
      "ssdp\n",
      "http.connection\n",
      "http.content_length\n",
      "http.content_type\n",
      "http.date\n",
      "http.file_data\n",
      "http.host\n",
      "http.last_modified\n",
      "http.location\n",
      "http.request.full_uri\n",
      "http.request.line\n",
      "http.request.method\n",
      "http.request.uri.path\n",
      "http.request.uri.query\n",
      "http.request.uri.query.parameter\n",
      "http.request.version\n",
      "http.request_in\n",
      "http.response.code\n",
      "http.response.code.desc\n",
      "http.response.line\n",
      "http.response.phrase\n",
      "http.response.version\n",
      "http.response_for.uri\n",
      "http.referer\n",
      "http.time\n",
      "http.server\n",
      "json.value.string\n",
      "json.key\n",
      "tls.alert_message.desc\n",
      "tls.alert_message.level\n",
      "tls.app_data_proto\n",
      "tls.compress_certificate.compressed_certificate_message.length\n",
      "tls.handshake.extension.type\n",
      "tls.handshake.extensions_key_share_group\n",
      "tls.handshake.session_ticket_length\n",
      "tls.handshake.version\n",
      "tls.record.content_type\n",
      "tls.record.version\n",
      "Label\n"
     ]
    }
   ],
   "source": [
    "for c in df.columns:\n",
    "    print(c)"
   ]
  },
  {
   "cell_type": "markdown",
   "metadata": {},
   "source": [
    "Null analysis"
   ]
  },
  {
   "cell_type": "code",
   "execution_count": null,
   "id": "b878bf94",
   "metadata": {},
   "outputs": [],
   "source": [
    "df.dropna(axis=1, how=\"all\", inplace=True)\n",
    "nulls = df.isna()"
   ]
  },
  {
   "cell_type": "code",
   "execution_count": null,
   "id": "bcbb2c65",
   "metadata": {},
   "outputs": [
    {
     "name": "stdout",
     "output_type": "stream",
     "text": [
      "Cols with greater then 50% values: ['radiotap.datarate' 'radiotap.mactime' 'wlan.ta' 'wlan_radio.end_tsf'\n",
      " 'wlan_radio.start_tsf' 'wlan_radio.timestamp' 'frame.encap_type'\n",
      " 'frame.len' 'frame.number' 'frame.time' 'frame.time_delta'\n",
      " 'frame.time_delta_displayed' 'frame.time_epoch' 'frame.time_relative'\n",
      " 'radiotap.channel.flags.cck' 'radiotap.channel.flags.ofdm'\n",
      " 'radiotap.channel.freq' 'radiotap.dbm_antsignal' 'radiotap.length'\n",
      " 'radiotap.present.tsft' 'radiotap.rxflags' 'radiotap.timestamp.ts'\n",
      " 'wlan.duration' 'wlan.fc.ds' 'wlan.fc.frag' 'wlan.fc.order'\n",
      " 'wlan.fc.moredata' 'wlan.fc.protected' 'wlan.fc.pwrmgt' 'wlan.fc.type'\n",
      " 'wlan.fc.retry' 'wlan.fc.subtype' 'wlan.ra' 'wlan_radio.duration'\n",
      " 'wlan_radio.channel' 'wlan_radio.data_rate' 'wlan_radio.frequency'\n",
      " 'wlan_radio.signal_dbm' 'wlan_radio.phy' 'Label']\n"
     ]
    }
   ],
   "source": [
    "nonNullCols = []\n",
    "for col in nulls.columns:\n",
    "    if len(nulls[col].unique()) == 1 and nulls[col].unique()[0] == False:\n",
    "       nonNullCols.append(col)\n",
    "       \n",
    "nulls.drop(nonNullCols, axis=1, inplace=True)\n",
    "\n",
    "nullRatios = np.asarray([nulls[c].value_counts()[True] / nulls[c].shape[0] for c in nulls], dtype=float)\n",
    "nullFilt = np.array([x > 0.5 for x in nullRatios])\n",
    "colswithvals = np.array(nulls.columns[[not x for x in nullFilt]])\n",
    "colswithvals = np.concatenate([colswithvals, nonNullCols])\n",
    "print(f\"Cols with greater then 50% values: {colswithvals}\")"
   ]
  },
  {
   "cell_type": "markdown",
   "id": "41615aaa",
   "metadata": {},
   "source": [
    "Ip analysis"
   ]
  },
  {
   "cell_type": "code",
   "execution_count": null,
   "id": "86498c8a",
   "metadata": {},
   "outputs": [
    {
     "name": "stdout",
     "output_type": "stream",
     "text": [
      "(1599997, 5)\n",
      "True     1119329\n",
      "False     480668\n",
      "Name: ip.dst, dtype: int64\n",
      "True     1119329\n",
      "False     480668\n",
      "Name: ip.proto, dtype: int64\n",
      "True     1119329\n",
      "False     480668\n",
      "Name: ip.src, dtype: int64\n",
      "True     1119329\n",
      "False     480668\n",
      "Name: ip.ttl, dtype: int64\n",
      "True     1118307\n",
      "False     481690\n",
      "Name: ip.version, dtype: int64\n",
      "(480668, 5)\n"
     ]
    }
   ],
   "source": [
    "ip = [\"ip.dst\",\"ip.proto\",\"ip.src\",\"ip.ttl\",\"ip.version\"]\n",
    "\n",
    "ipOnly = df.drop(df.columns.difference(ip), axis=1)\n",
    "print(ipOnly.shape)\n",
    "for c in ipOnly.columns:\n",
    "    print(ipOnly[c].isna().value_counts())\n",
    "\n",
    "ipOnly.dropna(axis=0, how=\"any\", inplace=True)\n",
    "\n"
   ]
  }
 ],
 "metadata": {
  "kernelspec": {
   "display_name": "Python 3.10.5 ('finalproj')",
   "language": "python",
   "name": "python3"
  },
  "language_info": {
   "codemirror_mode": {
    "name": "ipython",
    "version": 3
   },
   "file_extension": ".py",
   "mimetype": "text/x-python",
   "name": "python",
   "nbconvert_exporter": "python",
   "pygments_lexer": "ipython3",
   "version": "3.10.5"
  },
  "vscode": {
   "interpreter": {
    "hash": "01736c6fa304236c2b7d5be93725ba564622a8e014d23fe88690836451f6088f"
   }
  }
 },
 "nbformat": 4,
 "nbformat_minor": 5
}
