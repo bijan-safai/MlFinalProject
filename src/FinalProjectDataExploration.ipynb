{
 "cells": [
  {
   "cell_type": "code",
   "execution_count": null,
   "id": "8b03dabf",
   "metadata": {},
   "outputs": [],
   "source": [
    "import plotly.express as px\n",
    "import pandas as pd\n",
    "import numpy as np\n"
   ]
  },
  {
   "cell_type": "markdown",
   "id": "69f47cfc",
   "metadata": {},
   "source": [
    "Aggregate Data Sets"
   ]
  },
  {
   "cell_type": "code",
   "execution_count": null,
   "id": "281f30ff",
   "metadata": {},
   "outputs": [],
   "source": [
    "dataTemp = []\n",
    "for i in range(32):\n",
    "    dataTemp.append(pd.read_csv(f\"..\\\\DataSet\\\\CSV\\\\1.Deauth\\\\Deauth_{i}.csv\", low_memory=False))\n",
    "    print(f\"read {i} into memory\")\n",
    "\n",
    "df = pd.concat(dataTemp)\n",
    "print(df.shape)"
   ]
  },
  {
   "cell_type": "markdown",
   "id": "db04c7f9",
   "metadata": {},
   "source": [
    "Label analysis"
   ]
  },
  {
   "cell_type": "code",
   "execution_count": null,
   "id": "b532e8c9",
   "metadata": {},
   "outputs": [],
   "source": [
    "print(df[\"Label\"].unique())\n",
    "print(df[\"Label\"].value_counts())\n",
    "fig = px.bar(df[\"Label\"].value_counts())\n",
    "fig.show()\n",
    "\n"
   ]
  },
  {
   "cell_type": "code",
   "execution_count": null,
   "id": "87592e02",
   "metadata": {},
   "outputs": [],
   "source": [
    "for c in df.columns:\n",
    "    print(c)"
   ]
  },
  {
   "cell_type": "markdown",
   "metadata": {},
   "source": [
    "Null analysis"
   ]
  },
  {
   "cell_type": "code",
   "execution_count": null,
   "id": "b878bf94",
   "metadata": {},
   "outputs": [],
   "source": [
    "df.dropna(axis=1, how=\"all\", inplace=True)\n",
    "nulls = df.isna()"
   ]
  },
  {
   "cell_type": "code",
   "execution_count": null,
   "id": "bcbb2c65",
   "metadata": {},
   "outputs": [],
   "source": [
    "nonNullCols = []\n",
    "for col in nulls.columns:\n",
    "    if len(nulls[col].unique()) == 1 and nulls[col].unique()[0] == False:\n",
    "       nonNullCols.append(col)\n",
    "       \n",
    "nulls.drop(nonNullCols, axis=1, inplace=True)\n",
    "\n",
    "nullRatios = np.asarray([nulls[c].value_counts()[True] / nulls[c].shape[0] for c in nulls], dtype=float)\n",
    "nullFilt = np.array([x > 0.5 for x in nullRatios])\n",
    "colswithvals = np.array(nulls.columns[[not x for x in nullFilt]])\n",
    "colswithvals = np.concatenate([colswithvals, nonNullCols])\n",
    "print(f\"Cols with greater then 50% values: {colswithvals}\")"
   ]
  },
  {
   "cell_type": "markdown",
   "id": "41615aaa",
   "metadata": {},
   "source": [
    "Ip analysis"
   ]
  },
  {
   "cell_type": "code",
   "execution_count": null,
   "id": "86498c8a",
   "metadata": {},
   "outputs": [],
   "source": [
    "ip = [\"ip.dst\",\"ip.proto\",\"ip.src\",\"ip.ttl\",\"ip.version\"]\n",
    "\n",
    "ipOnly = df.drop(df.columns.difference(ip), axis=1)\n",
    "print(ipOnly.shape)\n",
    "for c in ipOnly.columns:\n",
    "    print(ipOnly[c].isna().value_counts())\n",
    "\n",
    "ipOnly.dropna(axis=0, how=\"any\", inplace=True)\n",
    "\n"
   ]
  }
 ],
 "metadata": {
  "kernelspec": {
   "display_name": "Python 3.10.5 ('finalproj')",
   "language": "python",
   "name": "python3"
  },
  "language_info": {
   "codemirror_mode": {
    "name": "ipython",
    "version": 3
   },
   "file_extension": ".py",
   "mimetype": "text/x-python",
   "name": "python",
   "nbconvert_exporter": "python",
   "pygments_lexer": "ipython3",
   "version": "3.10.5"
  },
  "vscode": {
   "interpreter": {
    "hash": "01736c6fa304236c2b7d5be93725ba564622a8e014d23fe88690836451f6088f"
   }
  }
 },
 "nbformat": 4,
 "nbformat_minor": 5
}
