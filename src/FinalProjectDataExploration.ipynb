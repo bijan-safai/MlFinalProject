{
 "cells": [
  {
   "cell_type": "code",
   "execution_count": null,
   "id": "8b03dabf",
   "metadata": {},
   "outputs": [],
   "source": [
    "import plotly.express as px\n",
    "import pandas as pd\n",
    "import numpy as np\n",
    "from sklearn.linear_model import LogisticRegression\n",
    "from sklearn.ensemble import RandomForestClassifier\n",
    "from sklearn.svm import SVC\n",
    "from sklearn.tree import DecisionTreeClassifier\n",
    "from sklearn.metrics import classification_report\n"
   ]
  },
  {
   "cell_type": "markdown",
   "id": "69f47cfc",
   "metadata": {},
   "source": [
    "Aggregate Data Sets"
   ]
  },
  {
   "cell_type": "code",
   "execution_count": null,
   "id": "281f30ff",
   "metadata": {},
   "outputs": [],
   "source": [
    "dataTemp = []\n",
    "files = [\"Malware_26.csv\",\"Malware_20.csv\", \"Malware_21.csv\"]\n",
    "for i in files:\n",
    "    dataTemp.append(pd.read_csv(f\"C:\\\\Masters\\\\MlFinalProjFinal\\\\Data\\\\CSV\\\\9.Malware\\\\{i}\", low_memory=True))\n",
    "    print(f\"read {i} into memory\")\n",
    "\n",
    "df = pd.concat(dataTemp)\n",
    "print(df.shape)"
   ]
  },
  {
   "cell_type": "markdown",
   "id": "db04c7f9",
   "metadata": {},
   "source": [
    "Label analysis"
   ]
  },
  {
   "cell_type": "code",
   "execution_count": null,
   "id": "b532e8c9",
   "metadata": {},
   "outputs": [],
   "source": [
    "print(df[\"Label\"].unique())\n",
    "print(df[\"Label\"].value_counts())\n",
    "fig = px.bar(df[\"Label\"].value_counts())\n",
    "fig.show()"
   ]
  },
  {
   "cell_type": "code",
   "execution_count": null,
   "id": "87592e02",
   "metadata": {},
   "outputs": [],
   "source": [
    "print(df.columns)"
   ]
  },
  {
   "cell_type": "markdown",
   "metadata": {},
   "source": [
    "Null analysis"
   ]
  },
  {
   "cell_type": "code",
   "execution_count": null,
   "id": "b878bf94",
   "metadata": {},
   "outputs": [],
   "source": [
    "df.dropna(axis=1, how=\"all\", inplace=True)\n",
    "nulls = df.isna()\n",
    "print(df.shape)"
   ]
  },
  {
   "cell_type": "code",
   "execution_count": null,
   "id": "bcbb2c65",
   "metadata": {},
   "outputs": [],
   "source": [
    "nonNullCols = []\n",
    "for col in nulls.columns:\n",
    "    if len(nulls[col].unique()) == 1 and nulls[col].unique()[0] == False:\n",
    "       nonNullCols.append(col)\n",
    "       \n",
    "nulls.drop(nonNullCols, axis=1, inplace=True)\n",
    "\n",
    "nullRatios = np.asarray([nulls[c].value_counts()[True] / nulls[c].shape[0] for c in nulls], dtype=float)\n",
    "nullFilt = np.array([x > 0.5 for x in nullRatios])\n",
    "colswithvals = np.array(nulls.columns[[not x for x in nullFilt]])\n",
    "colswithvals = np.concatenate([colswithvals, nonNullCols])\n",
    "print(f\"Cols with greater then 50% values: {colswithvals}\")\n",
    "print(f'Count: {len(colswithvals)}')"
   ]
  },
  {
   "cell_type": "markdown",
   "id": "41615aaa",
   "metadata": {},
   "source": [
    "Ip analysis"
   ]
  },
  {
   "cell_type": "code",
   "execution_count": null,
   "id": "86498c8a",
   "metadata": {},
   "outputs": [],
   "source": [
    "ip = [\"ip.dst\",\"ip.proto\",\"ip.src\",\"ip.ttl\",\"ip.version\"]\n",
    "\n",
    "ipOnly = df.drop(df.columns.difference(ip), axis=1)\n",
    "print(ipOnly.shape)\n",
    "for c in ipOnly.columns:\n",
    "    print(ipOnly[c].isna().value_counts())\n",
    "\n",
    "ipOnly.dropna(axis=0, how=\"any\", inplace=True)\n",
    "\n",
    "print(ipOnly.columns)"
   ]
  },
  {
   "cell_type": "markdown",
   "id": "cb5abf5d",
   "metadata": {},
   "source": [
    "#### Deleting the rows from the DataFrame with NA values from the IP columns"
   ]
  },
  {
   "cell_type": "code",
   "execution_count": null,
   "id": "2b838e42",
   "metadata": {},
   "outputs": [],
   "source": [
    "print(\"df shape before: \", df.shape)\n",
    "for i in ipOnly.columns:\n",
    "    df.dropna(subset=[i], axis=0, how=\"any\", inplace=True)\n",
    "\n",
    "print(\"df shape after:\", df.shape)"
   ]
  },
  {
   "cell_type": "code",
   "execution_count": null,
   "id": "da4b19e3",
   "metadata": {},
   "outputs": [],
   "source": [
    "pd.set_option('display.max_columns', None)\n",
    "df.head(10)"
   ]
  },
  {
   "cell_type": "markdown",
   "id": "8942a8d8",
   "metadata": {},
   "source": [
    "#### Further Null Analysis"
   ]
  },
  {
   "cell_type": "code",
   "execution_count": null,
   "id": "9a24dd47",
   "metadata": {},
   "outputs": [],
   "source": [
    "# finding columns with NaN values and ratio of NaN values to the total\n",
    "nan_col = df.columns[df.isna().any()].tolist()\n",
    "print(\"\\nNaN column count: \", len(nan_col))\n",
    "print(\"Total columns:\", len(df.columns))\n",
    "nan_col_ratio = df.isna().mean().tolist()\n",
    "\n",
    "\n",
    "nan_column = {nan_col[i]: nan_col_ratio[i] for i in range(len(nan_col))}\n",
    "print(\"Columns with NaN:\")\n",
    "print(nan_column)\n",
    "print(\"\\n\")\n",
    "\n",
    "# get columns with ratio of NaN values more than 50%\n",
    "useless_col = dict((k, v) for k, v in nan_column.items() if v >= 0.5)\n",
    "print(\"Columns with more than 50% NaN values: \")\n",
    "print(useless_col)\n",
    "print(f'\\nNumber of useless columns {len(useless_col)}')\n",
    "print(f'Column with the least ratio: {min(useless_col, key=useless_col.get)}')\n",
    "\n",
    "#print (df.isin([' ','NULL',0]).mean())"
   ]
  },
  {
   "cell_type": "code",
   "execution_count": null,
   "metadata": {},
   "outputs": [],
   "source": [
    "# dropping the columns with more than 50% null values\n",
    "\n",
    "df = df.dropna(thresh=df.shape[0]*0.5,axis=1)\n",
    "#df = df.dropna(thresh=df.shape[0]*0.5, axis=1, subset=df.columns.difference(ip))\n",
    "\n",
    "print(\"New df shape:\", df.shape)\n",
    "df.head(10)"
   ]
  },
  {
   "cell_type": "code",
   "execution_count": null,
   "id": "bd7e60f3",
   "metadata": {},
   "outputs": [],
   "source": [
    "#### replacing the left over NaN values with 0 or unknown\n",
    "import warnings\n",
    "warnings.filterwarnings('ignore')\n",
    "## checking if we havent dropped IP data\n",
    "# for col in df.columns:\n",
    "#     if \"ip\" in col:\n",
    "#         print(col)\n",
    "# print(\"\\n\")\n",
    "cnt_num = 0\n",
    "cnt = 0\n",
    "non_num_feature = []\n",
    "for col in df.columns:\n",
    "    if (df[col].dtypes == \"int64\") or (df[col].dtypes == \"float64\") or (\"udp\" in col) :\n",
    "        #print(\"number col: \", col, df[col].dtypes)\n",
    "        cnt_num += 1\n",
    "        df[col] = df[col].fillna(0)\n",
    "    else:\n",
    "        #print(\"string col:\", col, df[col].dtypes)\n",
    "        cnt += 1\n",
    "        non_num_feature.append(col)\n",
    "        df[col] = df[col].fillna('Unknown')\n",
    "\n",
    "print(\"Numeric count and non numeric count: \",cnt_num, cnt)\n",
    "print(\"Non numeric columns: \", non_num_feature)\n",
    "df.head(10)"
   ]
  },
  {
   "cell_type": "code",
   "execution_count": null,
   "id": "bc23347d",
   "metadata": {},
   "outputs": [],
   "source": [
    "def check_feature_type(df):\n",
    "    cnt_num = 0\n",
    "    cnt = 0\n",
    "    global non_num_feature\n",
    "    non_num_feature = []\n",
    "    global num_feature\n",
    "    num_feature = []\n",
    "    for col in df.columns:\n",
    "        if (df[col].dtypes == \"int64\") or (df[col].dtypes == \"float64\"):\n",
    "            cnt_num += 1\n",
    "            num_feature.append(col)\n",
    "        else:\n",
    "            #print(\"string col:\", col, df[col].dtypes)\n",
    "            cnt += 1\n",
    "            non_num_feature.append(col)\n",
    "\n",
    "    print(\"Numeric features: \" + str(cnt_num) + \" ; Non-numeric features: \" + str(cnt))\n",
    "    print(\"Non numeric columns: \", non_num_feature)\n",
    "    \n",
    "    return num_feature, non_num_feature"
   ]
  },
  {
   "cell_type": "code",
   "execution_count": null,
   "id": "aaed8bf5",
   "metadata": {},
   "outputs": [],
   "source": [
    "df[non_num_feature].head(10)"
   ]
  },
  {
   "cell_type": "markdown",
   "id": "6d8c53a4",
   "metadata": {},
   "source": [
    "#### Converting IP and MAC address information from string to int"
   ]
  },
  {
   "cell_type": "code",
   "execution_count": null,
   "id": "99af2ff6",
   "metadata": {},
   "outputs": [],
   "source": [
    "import ipaddress\n",
    "import re\n",
    "\n",
    "ipv4_addr_features = ['ip.src', 'ip.dst']\n",
    "\n",
    "# removing rows with non IP address format and then convering those IPs to integer values using ipaddress\n",
    "for col in ipv4_addr_features:\n",
    "    df = df[df[col].str.contains(\"^\\d{1,3}\\.\\d{1,3}\\.\\d{1,3}\\.\\d{1,3}$\", regex=True) == True]\n",
    "\n",
    "for col in ipv4_addr_features:\n",
    "  df[col] = df[col].apply(lambda x: int(ipaddress.IPv4Address(x)))\n",
    "\n",
    "print(\"df shape after dropping non IPv4 rows: \", df.shape)"
   ]
  },
  {
   "cell_type": "code",
   "execution_count": null,
   "id": "bd7adb43",
   "metadata": {},
   "outputs": [],
   "source": [
    "from numpy import NaN\n",
    "\n",
    "\n",
    "mac_addr_features = ['wlan.bssid','wlan.da', 'wlan.ra', 'wlan.sa', 'wlan.ta']\n",
    "\n",
    "# converting  MAC addresses in the wlan features to int\n",
    "def mac_to_int(mac):\n",
    "    mac = str(mac)\n",
    "    res = re.match('^((?:(?:[0-9a-f]{2}):){5}[0-9a-f]{2})$', mac.lower())\n",
    "    if res is None:\n",
    "        print(f'invalid mac address: {mac}')\n",
    "        return 0\n",
    "    return int(res.group(0).replace(':', ''), 16)\n",
    "\n",
    "for col in mac_addr_features:\n",
    "  df[col] = df[col].apply(lambda x: mac_to_int(x))\n"
   ]
  },
  {
   "cell_type": "code",
   "execution_count": null,
   "id": "e6a8a2eb",
   "metadata": {},
   "outputs": [],
   "source": [
    "print(df[\"wlan.bssid\"].value_counts())\n",
    "print(df['wlan.da'].value_counts())\n",
    "print(df['wlan.ra'].value_counts())\n",
    "print(df['wlan.sa'].value_counts())\n",
    "print(df['wlan.ta'].value_counts())"
   ]
  },
  {
   "cell_type": "code",
   "execution_count": null,
   "id": "8c1d0589",
   "metadata": {},
   "outputs": [],
   "source": [
    "udp_feaures = ['udp.dstport', 'udp.srcport', 'udp.length', 'udp.time_delta', 'ip.version']\n",
    "\n",
    "for col in udp_feaures:\n",
    "    df[col] = df[col].astype('float64')"
   ]
  },
  {
   "cell_type": "code",
   "execution_count": null,
   "id": "f2c8ac62",
   "metadata": {},
   "outputs": [],
   "source": [
    "check_feature_type(df)"
   ]
  },
  {
   "cell_type": "code",
   "execution_count": null,
   "id": "86be92be",
   "metadata": {},
   "outputs": [],
   "source": [
    "print(num_feature)"
   ]
  },
  {
   "cell_type": "code",
   "execution_count": null,
   "id": "841a4ca9",
   "metadata": {},
   "outputs": [],
   "source": [
    "udp_feaures = ['udp.dstport', 'udp.srcport', 'udp.length', 'udp.time_delta', 'ip.version']\n",
    "\n",
    "for feat in udp_feaures:\n",
    "    try: \n",
    "        num_feature.remove(feat)\n",
    "    except:\n",
    "        print(\"hello\")\n",
    "\n",
    "print(num_feature)"
   ]
  },
  {
   "cell_type": "markdown",
   "id": "e7e17fc1",
   "metadata": {},
   "source": [
    "Noticed that wlan.bssid has the same MAC address in all rows - basic service set identifier (BSSID). THis is the MAC address of the Access Point."
   ]
  },
  {
   "cell_type": "markdown",
   "id": "39d7832d",
   "metadata": {},
   "source": [
    "#### Encoding Labels + Train-test split + Scaling\n",
    "For data containing IP features\n",
    "\n",
    "Only for Numeric Features"
   ]
  },
  {
   "cell_type": "code",
   "execution_count": null,
   "id": "0fce4a04",
   "metadata": {},
   "outputs": [],
   "source": [
    "print(num_feature)"
   ]
  },
  {
   "cell_type": "code",
   "execution_count": null,
   "id": "43e16a23",
   "metadata": {},
   "outputs": [],
   "source": [
    "from copy import copy, deepcopy\n",
    "from sklearn.model_selection import train_test_split\n",
    "from sklearn.preprocessing import LabelEncoder, LabelBinarizer, StandardScaler\n",
    "\n",
    "encoder = LabelEncoder()\n",
    "\n",
    "\n",
    "\n",
    "Y = df[\"Label\"]\n",
    "#X = df.loc[: ,df.columns != 'Label']\n",
    "X = df[num_feature]\n",
    "\n",
    "encoded_Y = encoder.fit_transform(Y)\n",
    "print(encoder.classes_)\n",
    "\n",
    "train_data, test_data, train_labels , test_labels = train_test_split(X, encoded_Y, test_size = 0.2)\n",
    "\n",
    "print(\"Train data shape:\" , train_data.shape)\n",
    "print(\"Test data shape: \", test_data.shape)\n",
    "\n",
    "scaler=StandardScaler()\n",
    "scaler.fit(train_data)\n",
    "scaled_train_data = scaler.transform(train_data)\n",
    "scaled_test_data = scaler.transform(test_data)"
   ]
  },
  {
   "cell_type": "markdown",
   "id": "05ef1e83",
   "metadata": {},
   "source": [
    "#### Need to convert data to categorical values before performing PCA - So far able to prune NaN columns and replace leftover NaN with 0 or unknown"
   ]
  },
  {
   "cell_type": "markdown",
   "id": "97d874c3",
   "metadata": {},
   "source": [
    "## PCA Analysis"
   ]
  },
  {
   "cell_type": "code",
   "execution_count": null,
   "id": "df8024fd",
   "metadata": {},
   "outputs": [],
   "source": [
    "import matplotlib.pyplot as plt\n",
    "from sklearn import metrics\n",
    "from sklearn.decomposition import PCA\n",
    "\n",
    "def PCA_(k, data):\n",
    "\n",
    "  total_var = []\n",
    "  for i in range(len(k)):\n",
    "    pca = PCA(n_components=k[i])\n",
    "    pca.fit(data)\n",
    "    var_components = pca.explained_variance_ratio_\n",
    "    print(\"k = \"+ str(k[i]) + \" ; Variance = \"+ str(np.sum(var_components)))\n",
    "    total_var.append(np.sum(var_components))\n",
    "\n",
    "\n",
    "  # plotting\n",
    "  print(\"\\n\")\n",
    "  plt.plot(k, total_var, marker = 'o')\n",
    "  plt.title('Fraction of total variance vs. number of principal components)') \n",
    "  plt.xlabel(\"Number of principal components\")\n",
    "  plt.ylabel(\"Variance\")\n",
    "\n",
    "n_components = [ 2, 3, 4, 5, 10, 20, 30]\n",
    "print(\"PCA on unscaled data\")\n",
    "PCA_(n_components, train_data)\n",
    "\n"
   ]
  },
  {
   "cell_type": "code",
   "execution_count": null,
   "id": "877638e2",
   "metadata": {},
   "outputs": [],
   "source": [
    "print(\"PCA on Scaled data\")\n",
    "PCA_(n_components, scaled_train_data)"
   ]
  },
  {
   "cell_type": "code",
   "execution_count": null,
   "id": "42056458",
   "metadata": {},
   "outputs": [],
   "source": [
    "# Helper func - Accuracy and error\n",
    "def accuracy_scaled(model):\n",
    "    y_preds= model.predict(scaled_test_data)\n",
    "    return metrics.accuracy_score(test_labels, y_preds)\n",
    "\n",
    "def accuracy_nonscaled(model):\n",
    "    y_preds= model.predict(test_data)\n",
    "    return metrics.accuracy_score(test_labels, y_preds)\n",
    "\n",
    "def error_scaled(model):\n",
    "    y_preds= model.predict(scaled_test_data)\n",
    "    return metrics.zero_one_loss(test_labels, y_preds)\n",
    "\n",
    "def error_nonscaled(model):\n",
    "    y_preds= model.predict(test_data)\n",
    "    return metrics.zero_one_loss(test_labels, y_preds)\n",
    "\n",
    "    "
   ]
  },
  {
   "cell_type": "code",
   "execution_count": null,
   "id": "40520acb",
   "metadata": {},
   "outputs": [],
   "source": [
    "# more sophisticated metrics:\n",
    "def generate_and_display_classification_rep(model, data, y_true):\n",
    "  \n",
    "    ypred = model.predict(data)\n",
    "    classRep = classification_report(y_true, ypred, output_dict=True)\n",
    "    return classRep"
   ]
  },
  {
   "cell_type": "markdown",
   "id": "53b95b86",
   "metadata": {},
   "source": [
    "#### Classification Algorithms in ML"
   ]
  },
  {
   "cell_type": "code",
   "execution_count": null,
   "id": "9311fb30",
   "metadata": {},
   "outputs": [],
   "source": [
    "validationSet = pd.read_csv(\"C:\\\\Masters\\\\MlFinalProjFinal\\\\Data\\\\ValidationSets\\\\malware_valid.csv\")\n",
    "print(validationSet.head(10))\n",
    "validation_lables = encoder.transform(validationSet[\"Label\"])\n",
    "validation_data = validationSet[num_feature]"
   ]
  },
  {
   "cell_type": "code",
   "execution_count": null,
   "id": "1f17ace8",
   "metadata": {},
   "outputs": [],
   "source": [
    "def strip_ip_features(data):\n",
    "    no_ip_num_features = deepcopy(num_feature)\n",
    "    no_ip_num_features.remove(\"ip.dst\")\n",
    "    no_ip_num_features.remove(\"ip.src\")\n",
    "    return data[no_ip_num_features]"
   ]
  },
  {
   "cell_type": "code",
   "execution_count": null,
   "id": "44813488",
   "metadata": {},
   "outputs": [],
   "source": [
    "def compare_ip_no_ip(ip_model, no_ip_model, train_data, train_labels, test_data, test_labels, validation_data, validation_labels, attack_class, model_type):\n",
    "    \n",
    "    ip_model.fit(train_data, train_labels)\n",
    "    ip_class_report = generate_and_display_classification_rep(ip_model, test_data, test_labels)\n",
    "    ip_class_report_valid = generate_and_display_classification_rep(ip_model, validation_data, validation_labels)\n",
    "\n",
    "    no_ip_train_data = strip_ip_features(train_data)\n",
    "    no_ip_test_data = strip_ip_features(test_data)\n",
    "    no_ip_valid_data = strip_ip_features(validation_data)\n",
    "\n",
    "    no_ip_model.fit(no_ip_train_data, train_labels)\n",
    "    no_ip_class_report = generate_and_display_classification_rep(no_ip_model, no_ip_test_data, test_labels)\n",
    "    no_ip_class_report_valid = generate_and_display_classification_rep(no_ip_model, no_ip_valid_data, validation_labels)\n",
    "\n",
    "    (pd.DataFrame(ip_class_report)).to_csv(f\"C:\\\\Masters\\\\MlFinalProjFinal\\\\Results\\\\{attack_class}\\\\{model_type}\\\\ip_class_rep.csv\")\n",
    "    (pd.DataFrame(ip_class_report_valid)).to_csv(f\"C:\\\\Masters\\\\MlFinalProjFinal\\\\Results\\\\{attack_class}\\\\{model_type}\\\\ip_class_rep_valid.csv\")\n",
    "    (pd.DataFrame(no_ip_class_report)).to_csv(f\"C:\\\\Masters\\\\MlFinalProjFinal\\\\Results\\\\{attack_class}\\\\{model_type}\\\\no_ip_class_rep.csv\")\n",
    "    (pd.DataFrame(no_ip_class_report_valid)).to_csv(f\"C:\\\\Masters\\\\MlFinalProjFinal\\\\Results\\\\{attack_class}\\\\{model_type}\\\\no_ip_class_rep_valid.csv\")"
   ]
  },
  {
   "cell_type": "code",
   "execution_count": null,
   "metadata": {},
   "outputs": [],
   "source": [
    "attack_type = \"malware\""
   ]
  },
  {
   "cell_type": "markdown",
   "id": "f562b889",
   "metadata": {},
   "source": [
    "Knn:"
   ]
  },
  {
   "cell_type": "code",
   "execution_count": null,
   "id": "063dbf88",
   "metadata": {},
   "outputs": [],
   "source": [
    "from sklearn.neighbors import KNeighborsClassifier\n",
    "\n",
    "\n",
    "knn_ip = KNeighborsClassifier()\n",
    "knn_no_ip = KNeighborsClassifier()\n",
    "compare_ip_no_ip(knn_ip, knn_no_ip, train_data, train_labels, test_data, test_labels, validation_data, validation_lables, attack_type, \"knn\")"
   ]
  },
  {
   "cell_type": "markdown",
   "id": "26777d2f",
   "metadata": {},
   "source": [
    "Random Forest:"
   ]
  },
  {
   "cell_type": "code",
   "execution_count": null,
   "id": "5b63bb35",
   "metadata": {},
   "outputs": [],
   "source": [
    "rf_ip = RandomForestClassifier()\n",
    "rf_no_ip = RandomForestClassifier()\n",
    "compare_ip_no_ip(rf_ip, rf_no_ip, train_data, train_labels, test_data, test_labels, validation_data, validation_lables, attack_type, \"rf\")"
   ]
  },
  {
   "cell_type": "markdown",
   "id": "e487a136",
   "metadata": {},
   "source": [
    "Niave Bayes"
   ]
  },
  {
   "cell_type": "code",
   "execution_count": null,
   "id": "c30b3d4b",
   "metadata": {},
   "outputs": [],
   "source": [
    "from sklearn.naive_bayes import GaussianNB\n",
    "\n",
    "\n",
    "nb_ip = GaussianNB()\n",
    "nb_no_ip = GaussianNB()\n",
    "compare_ip_no_ip(nb_ip, nb_no_ip, train_data, train_labels, test_data, test_labels, validation_data, validation_lables, attack_type, \"nb\")"
   ]
  },
  {
   "cell_type": "markdown",
   "id": "22a9e080",
   "metadata": {},
   "source": [
    "Desc Tree:"
   ]
  },
  {
   "cell_type": "code",
   "execution_count": null,
   "id": "94361f44",
   "metadata": {},
   "outputs": [],
   "source": [
    "dt_ip = DecisionTreeClassifier()\n",
    "dt_no_ip = DecisionTreeClassifier()\n",
    "compare_ip_no_ip(dt_ip, dt_no_ip, train_data, train_labels, test_data, test_labels, validation_data, validation_lables, attack_type, \"dt\")"
   ]
  },
  {
   "cell_type": "markdown",
   "id": "b2de8726",
   "metadata": {},
   "source": [
    "Logit"
   ]
  },
  {
   "cell_type": "code",
   "execution_count": null,
   "id": "256fd8af",
   "metadata": {},
   "outputs": [],
   "source": [
    "lg_ip = LogisticRegression()\n",
    "lg_no_ip = LogisticRegression()\n",
    "compare_ip_no_ip(dt_ip, dt_no_ip, train_data, train_labels, test_data, test_labels, validation_data, validation_lables, attack_type, \"lg\")"
   ]
  }
 ],
 "metadata": {
  "kernelspec": {
   "display_name": "Python 3.10.2 64-bit (system)",
   "language": "python",
   "name": "python3"
  },
  "language_info": {
   "codemirror_mode": {
    "name": "ipython",
    "version": 3
   },
   "file_extension": ".py",
   "mimetype": "text/x-python",
   "name": "python",
   "nbconvert_exporter": "python",
   "pygments_lexer": "ipython3",
   "version": "3.10.2"
  },
  "vscode": {
   "interpreter": {
    "hash": "ef293afa400ee001745781114959822dd47ee593392f5beee4cbf70b2cfbc3ba"
   }
  }
 },
 "nbformat": 4,
 "nbformat_minor": 5
}
